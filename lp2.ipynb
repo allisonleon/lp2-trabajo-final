{
 "cells": [
  {
   "cell_type": "markdown",
   "id": "7de55c6b",
   "metadata": {},
   "source": [
    "Universidades:\n",
    "- UNALM\n",
    "    - Estadística :  https://repositorio.lamolina.edu.pe/handle/20.500.12996/151\n",
    "- PUCP\n",
    "    - Ingeniería Informática : https://tesis.pucp.edu.pe/repositorio/handle/20.500.12404/15964\n",
    "    - Estadística : https://tesis.pucp.edu.pe/repositorio/handle/20.500.12404/15963\n",
    "- UPC\n",
    "    - Ingeniería de Software : https://repositorioacademico.upc.edu.pe/handle/10757/621589\n",
    "    - Ciencias de la Computación : https://repositorioacademico.upc.edu.pe/handle/10757/624484\n",
    "- U. LIMA\n",
    "    - Ingeniería de Sistemas : https://repositorio.ulima.edu.pe/handle/20.500.12724/8858\n",
    "    - Ingeniería de Sistemas : https://repositorio.ulima.edu.pe/handle/20.500.12724/8382"
   ]
  },
  {
   "cell_type": "markdown",
   "id": "1180aeab",
   "metadata": {},
   "source": [
    "La manera de extraer la información de las tesis se hace de la siguiente manera:\n",
    "1.   Se busca una tesis cualquiera en alguno de los links brindados anteriormente\n",
    "2.   Se accede a la metadata de estos. Para aquellos documentos en donde el acceso sea privado, tenemos que agregar al final de la url el siguiente texto \"?show=full\" para mostrar la metadata. Por ejemplo, si tenemos el siguiente link de una tesis https://repositorioacademico.upc.edu.pe/handle/10757/662181 y queremos ver la metadata, agregamos el texto al final y quedaría de la siguiente manera https://repositorioacademico.upc.edu.pe/handle/10757/662181?show=full.\n",
    "3. Una vez hayamos accedido a la metadata, procedemos a obtener la información que necesitamos, que se mencionará más adelante\n"
   ]
  },
  {
   "cell_type": "markdown",
   "id": "e0411d61",
   "metadata": {},
   "source": [
    "Formato De la información que queremos extraer:\n",
    "- Institución :  dc.publisher\n",
    "- Título de la tesis: dc.title\n",
    "- Nombre de tesista: dc.contributor.author\n",
    "- Grado: thesis.degree.name\n",
    "- Asesor: dc.contributor.advisor\n",
    "- Resumen: dc.description.abstract\n",
    "- Año: dc.date.created\n"
   ]
  },
  {
   "cell_type": "code",
   "execution_count": 1,
   "id": "0c1c2833",
   "metadata": {},
   "outputs": [
    {
     "name": "stdout",
     "output_type": "stream",
     "text": [
      "Requirement already satisfied: beautifulsoup4 in c:\\users\\hp\\anaconda3\\lib\\site-packages (4.11.1)\n",
      "Requirement already satisfied: soupsieve>1.2 in c:\\users\\hp\\anaconda3\\lib\\site-packages (from beautifulsoup4) (2.3.1)\n"
     ]
    }
   ],
   "source": [
    "#instalación de paquetes\n",
    "!pip install beautifulsoup4\n"
   ]
  },
  {
   "cell_type": "code",
   "execution_count": 2,
   "id": "0423a0e0",
   "metadata": {},
   "outputs": [
    {
     "data": {
      "text/plain": [
       "{'unalm': ['https://repositorio.lamolina.edu.pe/handle/20.500.12996/151'],\n",
       " 'pucp': ['https://tesis.pucp.edu.pe/repositorio/handle/20.500.12404/15964',\n",
       "  'https://tesis.pucp.edu.pe/repositorio/handle/20.500.12404/15963'],\n",
       " 'upc': ['https://repositorioacademico.upc.edu.pe/handle/10757/621589',\n",
       "  'https://repositorioacademico.upc.edu.pe/handle/10757/624484'],\n",
       " 'ulima': ['https://repositorio.ulima.edu.pe/handle/20.500.12724/8858',\n",
       "  'https://repositorio.ulima.edu.pe/handle/20.500.12724/8382']}"
      ]
     },
     "execution_count": 2,
     "metadata": {},
     "output_type": "execute_result"
    }
   ],
   "source": [
    "#Crearemos una diccionario donde almacenaremos todos los links de los repositorios obtenidos\n",
    "universidad_links = {\n",
    "    \"unalm\": [\"https://repositorio.lamolina.edu.pe/handle/20.500.12996/151\"],\n",
    "    \"pucp\": [\"https://tesis.pucp.edu.pe/repositorio/handle/20.500.12404/15964\",\n",
    "    \"https://tesis.pucp.edu.pe/repositorio/handle/20.500.12404/15963\"],\n",
    "    \"upc\": [\"https://repositorioacademico.upc.edu.pe/handle/10757/621589\",\n",
    "    \"https://repositorioacademico.upc.edu.pe/handle/10757/624484\"],\n",
    "    \"ulima\": [\"https://repositorio.ulima.edu.pe/handle/20.500.12724/8858\",\n",
    "    \"https://repositorio.ulima.edu.pe/handle/20.500.12724/8382\"]\n",
    "}\n",
    "universidad_links #Muestra los repositorios de las 4 universidades\n"
   ]
  },
  {
   "cell_type": "code",
   "execution_count": null,
   "id": "0270665a",
   "metadata": {},
   "outputs": [],
   "source": []
  }
 ],
 "metadata": {
  "kernelspec": {
   "display_name": "Python 3 (ipykernel)",
   "language": "python",
   "name": "python3"
  },
  "language_info": {
   "codemirror_mode": {
    "name": "ipython",
    "version": 3
   },
   "file_extension": ".py",
   "mimetype": "text/x-python",
   "name": "python",
   "nbconvert_exporter": "python",
   "pygments_lexer": "ipython3",
   "version": "3.9.12"
  }
 },
 "nbformat": 4,
 "nbformat_minor": 5
}
