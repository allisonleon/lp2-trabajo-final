{
 "cells": [
  {
   "cell_type": "markdown",
   "id": "7de55c6b",
   "metadata": {},
   "source": [
    "Universidades:\n",
    "- UNALM\n",
    "    - Estadística :  https://repositorio.lamolina.edu.pe/handle/20.500.12996/151\n",
    "- PUCP\n",
    "    - Ingeniería Informática : https://tesis.pucp.edu.pe/repositorio/handle/20.500.12404/15964\n",
    "    - Estadística : https://tesis.pucp.edu.pe/repositorio/handle/20.500.12404/15963\n",
    "- UPC\n",
    "    - Ingeniería de Software : https://repositorioacademico.upc.edu.pe/handle/10757/621589\n",
    "    - Ciencias de la Computación : https://repositorioacademico.upc.edu.pe/handle/10757/624484\n",
    "- U. LIMA\n",
    "    - Ingeniería de Sistemas : https://repositorio.ulima.edu.pe/handle/20.500.12724/8858\n",
    "    - Ingeniería de Sistemas : https://repositorio.ulima.edu.pe/handle/20.500.12724/8382"
   ]
  },
  {
   "cell_type": "markdown",
   "id": "1180aeab",
   "metadata": {},
   "source": [
    "La manera de extraer la información de las tesis se hace de la siguiente manera:\n",
    "1.   Se busca una tesis cualquiera en alguno de los links brindados anteriormente\n",
    "2.   Se accede a la metadata de estos. Para aquellos documentos en donde el acceso sea privado, tenemos que agregar al final de la url el siguiente texto \"?show=full\" para mostrar la metadata. Por ejemplo, si tenemos el siguiente link de una tesis https://repositorioacademico.upc.edu.pe/handle/10757/662181 y queremos ver la metadata, agregamos el texto al final y quedaría de la siguiente manera https://repositorioacademico.upc.edu.pe/handle/10757/662181?show=full.\n",
    "3. Una vez hayamos accedido a la metadata, procedemos a obtener la información que necesitamos, que se mencionará más adelante\n"
   ]
  },
  {
   "cell_type": "markdown",
   "id": "e0411d61",
   "metadata": {},
   "source": [
    "Formato De la información que queremos extraer:\n",
    "- Institución :  dc.publisher\n",
    "- Título de la tesis: dc.title\n",
    "- Nombre de tesista: dc.contributor.author\n",
    "- Grado: thesis.degree.name\n",
    "- Asesor: dc.contributor.advisor\n",
    "- Resumen: dc.description.abstract\n",
    "- Año: dc.date.created\n"
   ]
  },
  {
   "cell_type": "code",
   "execution_count": 1,
   "id": "0c1c2833",
   "metadata": {},
   "outputs": [
    {
     "name": "stdout",
     "output_type": "stream",
     "text": [
      "Defaulting to user installation because normal site-packages is not writeable\n",
      "Requirement already satisfied: beautifulsoup4 in c:\\programdata\\anaconda3\\lib\\site-packages (4.11.1)\n",
      "Requirement already satisfied: soupsieve>1.2 in c:\\programdata\\anaconda3\\lib\\site-packages (from beautifulsoup4) (2.3.1)\n"
     ]
    }
   ],
   "source": [
    "#instalación de paquetes\n",
    "!pip install beautifulsoup4\n"
   ]
  },
  {
   "cell_type": "code",
   "execution_count": 2,
   "id": "0423a0e0",
   "metadata": {},
   "outputs": [
    {
     "data": {
      "text/plain": [
       "{'unalm': ['https://repositorio.lamolina.edu.pe/handle/20.500.12996/151'],\n",
       " 'pucp': ['https://tesis.pucp.edu.pe/repositorio/handle/20.500.12404/15964',\n",
       "  'https://tesis.pucp.edu.pe/repositorio/handle/20.500.12404/15963'],\n",
       " 'upc': ['https://repositorioacademico.upc.edu.pe/handle/10757/621589',\n",
       "  'https://repositorioacademico.upc.edu.pe/handle/10757/624484'],\n",
       " 'ulima': ['https://repositorio.ulima.edu.pe/handle/20.500.12724/8858',\n",
       "  'https://repositorio.ulima.edu.pe/handle/20.500.12724/8382']}"
      ]
     },
     "execution_count": 2,
     "metadata": {},
     "output_type": "execute_result"
    }
   ],
   "source": [
    "#Crearemos una diccionario donde almacenaremos todos los links de los repositorios obtenidos\n",
    "universidad_links = {\n",
    "    \"unalm\": [\"https://repositorio.lamolina.edu.pe/handle/20.500.12996/151\"],\n",
    "    \"pucp\": [\"https://tesis.pucp.edu.pe/repositorio/handle/20.500.12404/15964\",\n",
    "    \"https://tesis.pucp.edu.pe/repositorio/handle/20.500.12404/15963\"],\n",
    "    \"upc\": [\"https://repositorioacademico.upc.edu.pe/handle/10757/621589\",\n",
    "    \"https://repositorioacademico.upc.edu.pe/handle/10757/624484\"],\n",
    "    \"ulima\": [\"https://repositorio.ulima.edu.pe/handle/20.500.12724/8858\",\n",
    "    \"https://repositorio.ulima.edu.pe/handle/20.500.12724/8382\"]\n",
    "}\n",
    "universidad_links #Muestra los repositorios de las 4 universidades\n"
   ]
  },
  {
   "cell_type": "code",
   "execution_count": 3,
   "id": "0270665a",
   "metadata": {},
   "outputs": [
    {
     "data": {
      "text/plain": [
       "{'dc.publisher': 'Insitución',\n",
       " 'dc.title': 'Titulo de la tesis',\n",
       " 'dc.contributor.author': 'Nombre de tesista',\n",
       " 'thesis.degree.name': 'Grado',\n",
       " 'dc.contributor.advisor': 'Asesor',\n",
       " 'dc.description.abstract': 'Resumen',\n",
       " 'dc.date.issued': 'Año de publicación'}"
      ]
     },
     "execution_count": 3,
     "metadata": {},
     "output_type": "execute_result"
    }
   ],
   "source": [
    "#Diccionario de datos requeridos\n",
    "targets_data = {\n",
    "    \"dc.publisher\": \"Insitución\",\n",
    "    \"dc.title\" : \"Titulo de la tesis\",\n",
    "    \"dc.contributor.author\" : \"Nombre de tesista\",\n",
    "    \"thesis.degree.name\" : \"Grado\",\n",
    "    \"dc.contributor.advisor\": \"Asesor\",\n",
    "    \"dc.description.abstract\" : \"Resumen\",\n",
    "    \"dc.date.issued\": \"Año de publicación\"\n",
    "}\n",
    "targets_data"
   ]
  },
  {
   "cell_type": "code",
   "execution_count": 4,
   "id": "e4f8297c",
   "metadata": {},
   "outputs": [
    {
     "data": {
      "text/plain": [
       "['https://tesis.pucp.edu.pe/repositorio/handle/20.500.12404/20234?show=full',\n",
       " 'https://tesis.pucp.edu.pe/repositorio/handle/20.500.12404/20166?show=full',\n",
       " 'https://tesis.pucp.edu.pe/repositorio/handle/20.500.12404/20140?show=full',\n",
       " 'https://tesis.pucp.edu.pe/repositorio/handle/20.500.12404/19262?show=full',\n",
       " 'https://tesis.pucp.edu.pe/repositorio/handle/20.500.12404/18644?show=full',\n",
       " 'https://tesis.pucp.edu.pe/repositorio/handle/20.500.12404/18590?show=full',\n",
       " 'https://tesis.pucp.edu.pe/repositorio/handle/20.500.12404/18523?show=full',\n",
       " 'https://tesis.pucp.edu.pe/repositorio/handle/20.500.12404/18517?show=full',\n",
       " 'https://tesis.pucp.edu.pe/repositorio/handle/20.500.12404/18274?show=full',\n",
       " 'https://tesis.pucp.edu.pe/repositorio/handle/20.500.12404/18230?show=full',\n",
       " 'https://tesis.pucp.edu.pe/repositorio/handle/20.500.12404/18092?show=full',\n",
       " 'https://tesis.pucp.edu.pe/repositorio/handle/20.500.12404/18088?show=full',\n",
       " 'https://tesis.pucp.edu.pe/repositorio/handle/20.500.12404/18064?show=full',\n",
       " 'https://tesis.pucp.edu.pe/repositorio/handle/20.500.12404/17894?show=full',\n",
       " 'https://tesis.pucp.edu.pe/repositorio/handle/20.500.12404/17720?show=full',\n",
       " 'https://tesis.pucp.edu.pe/repositorio/handle/20.500.12404/17550?show=full',\n",
       " 'https://tesis.pucp.edu.pe/repositorio/handle/20.500.12404/17377?show=full',\n",
       " 'https://tesis.pucp.edu.pe/repositorio/handle/20.500.12404/17325?show=full',\n",
       " 'https://tesis.pucp.edu.pe/repositorio/handle/20.500.12404/17283?show=full',\n",
       " 'https://tesis.pucp.edu.pe/repositorio/handle/20.500.12404/17281?show=full',\n",
       " 'https://tesis.pucp.edu.pe/repositorio/handle/20.500.12404/18901?show=full']"
      ]
     },
     "execution_count": 4,
     "metadata": {},
     "output_type": "execute_result"
    }
   ],
   "source": [
    "#Crearemos una función que reciba como parametros el nombre de la universidad y el diccionario con los links de los repositorios. Esta función retornará todas los links de las tesis\n",
    "import requests #peticiones\n",
    "from bs4 import BeautifulSoup # Permite scrapear\n",
    "def obtenerTesis(universidad, universidad_links):\n",
    "    linkstesis = [] #links de todas las tesis\n",
    "    if(universidad==\"unalm\"):\n",
    "      urls = universidad_links.get(universidad)\n",
    "      for url in urls:\n",
    "        html_doc = requests.get(url).text\n",
    "        soup = BeautifulSoup(html_doc, 'html.parser')\n",
    "        linkstesis.extend(list(map(lambda x: 'https://repositorio.lamolina.edu.pe'+x.find(\"a\").get(\"href\")+'?show=full' , soup.find_all(\"h4\",class_=\"artifact-title\"))))\n",
    "    if(universidad==\"pucp\"):\n",
    "      urls = universidad_links.get(universidad)\n",
    "      for url in urls:\n",
    "         html_doc = requests.get(url).text\n",
    "         soup = BeautifulSoup(html_doc, 'html.parser')\n",
    "         linkstesis.extend(list(map(lambda x: 'https://tesis.pucp.edu.pe'+x.find(\"a\").get(\"href\")+'?show=full' , soup.find_all(\"h4\",class_=\"artifact-title\"))))\n",
    "    return linkstesis\n",
    "#Ejemplo\n",
    "obtenerTesis(\"pucp\",universidad_links)\n",
    "\n"
   ]
  },
  {
   "cell_type": "code",
   "execution_count": 5,
   "id": "e91852e3",
   "metadata": {},
   "outputs": [
    {
     "data": {
      "text/plain": [
       "['https://repositorio.ulima.edu.pe/handle/20.500.12724/8868?show=full',\n",
       " 'https://repositorio.ulima.edu.pe/handle/20.500.12724/8870?show=full',\n",
       " 'https://repositorio.ulima.edu.pe/handle/20.500.12724/8869?show=full',\n",
       " 'https://repositorio.ulima.edu.pe/handle/20.500.12724/17213?show=full',\n",
       " 'https://repositorio.ulima.edu.pe/handle/20.500.12724/17229?show=full',\n",
       " 'https://repositorio.ulima.edu.pe/handle/20.500.12724/16799?show=full',\n",
       " 'https://repositorio.ulima.edu.pe/handle/20.500.12724/16797?show=full',\n",
       " 'https://repositorio.ulima.edu.pe/handle/20.500.12724/16776?show=full',\n",
       " 'https://repositorio.ulima.edu.pe/handle/20.500.12724/16678?show=full',\n",
       " 'https://repositorio.ulima.edu.pe/handle/20.500.12724/16676?show=full',\n",
       " 'https://repositorio.ulima.edu.pe/handle/20.500.12724/16675?show=full',\n",
       " 'https://repositorio.ulima.edu.pe/handle/20.500.12724/16673?show=full',\n",
       " 'https://repositorio.ulima.edu.pe/handle/20.500.12724/16671?show=full',\n",
       " 'https://repositorio.ulima.edu.pe/handle/20.500.12724/16470?show=full',\n",
       " 'https://repositorio.ulima.edu.pe/handle/20.500.12724/16461?show=full',\n",
       " 'https://repositorio.ulima.edu.pe/handle/20.500.12724/16426?show=full',\n",
       " 'https://repositorio.ulima.edu.pe/handle/20.500.12724/16316?show=full',\n",
       " 'https://repositorio.ulima.edu.pe/handle/20.500.12724/16314?show=full',\n",
       " 'https://repositorio.ulima.edu.pe/handle/20.500.12724/16303?show=full',\n",
       " 'https://repositorio.ulima.edu.pe/handle/20.500.12724/16174?show=full',\n",
       " 'https://repositorio.ulima.edu.pe/handle/20.500.12724/16189?show=full',\n",
       " 'https://repositorio.ulima.edu.pe/handle/20.500.12724/15817?show=full',\n",
       " 'https://repositorio.ulima.edu.pe/handle/20.500.12724/15807?show=full',\n",
       " 'https://repositorio.ulima.edu.pe/handle/20.500.12724/12343?show=full',\n",
       " 'https://repositorio.ulima.edu.pe/handle/20.500.12724/9320?show=full',\n",
       " 'https://repositorio.ulima.edu.pe/handle/20.500.12724/8401?show=full']"
      ]
     },
     "execution_count": 5,
     "metadata": {},
     "output_type": "execute_result"
    }
   ],
   "source": [
    "#Crearemos una función que reciba como parametros el nombre de la universidad y el diccionario con los links de los repositorios. Esta función retornará todas los links de las tesis\n",
    "import requests #peticiones\n",
    "from bs4 import BeautifulSoup # Permite scrapear\n",
    "def obtenerTesis(universidad, universidad_links):\n",
    "    linkstesis = [] #links de todas las tesis\n",
    "    \n",
    "    if(universidad==\"unalm\"):\n",
    "      urls = universidad_links.get(universidad)\n",
    "      for url in urls:\n",
    "        html_doc = requests.get(url).text\n",
    "        soup = BeautifulSoup(html_doc, 'html.parser')\n",
    "        linkstesis.extend(list(map(lambda x: 'https://repositorio.lamolina.edu.pe'+x.find(\"a\").get(\"href\")+'?show=full' , soup.find_all(\"h4\",class_=\"artifact-title\")))) #.extend agrega una lista al final de otra\n",
    "    if(universidad==\"pucp\"):\n",
    "      urls = universidad_links.get(universidad)\n",
    "      for url in urls:\n",
    "         html_doc = requests.get(url).text\n",
    "         soup = BeautifulSoup(html_doc, 'html.parser')\n",
    "         linkstesis.extend(list(map(lambda x: 'https://tesis.pucp.edu.pe'+x.find(\"a\").get(\"href\")+'?show=full' , soup.find_all(\"h4\",class_=\"artifact-title\"))))\n",
    "    if(universidad==\"upc\"):\n",
    "      urls = universidad_links.get(universidad)\n",
    "      for url in urls:\n",
    "         html_doc = requests.get(url).text\n",
    "         soup = BeautifulSoup(html_doc, 'html.parser')\n",
    "         linkstesis.extend(list(map(lambda x: 'https://repositorioacademico.upc.edu.pe'+x.find(\"a\").get(\"href\")+'?show=full' , soup.find_all(\"div\",class_=\"description-content\"))))\n",
    "    if(universidad==\"ulima\"):\n",
    "      urls = universidad_links.get(universidad)\n",
    "      for url in urls:\n",
    "         html_doc = requests.get(url).text\n",
    "         soup = BeautifulSoup(html_doc, 'html.parser')\n",
    "         linkstesis.extend(list(map(lambda x: 'https://repositorio.ulima.edu.pe'+x.find(\"a\").get(\"href\")+'?show=full' , soup.find_all(\"h4\",class_=\"artifact-title\"))))\n",
    "    return linkstesis\n",
    "#Ejemplo\n",
    "obtenerTesis(\"ulima\",universidad_links)"
   ]
  },
  {
   "cell_type": "code",
   "execution_count": 6,
   "id": "b936f9d4",
   "metadata": {},
   "outputs": [
    {
     "data": {
      "text/plain": [
       "{'Asesor': 'Rodríguez Rodríguez, Nadia Katherine',\n",
       " 'Nombre de tesista': 'Chávez Martínez, Renato',\n",
       " 'Año de publicación': '2019',\n",
       " 'Resumen': 'Determinar si un perro tiene la predisposición de desarrollar cáncer a la piel es uno de los desafíos tanto de los veterinarios como de los dueños de las mascotas. Los modelos de regresión logística y redes neuronales han sido ampliamente utilizados para realizar predicciones en el ámbito de la medicina humana, el presente estudio aborda la comparación de éstas dos técnicas para la predicción de cáncer de piel en perros. Las características que se han analizado son la edad, el sexo, raza, exposición al sol, albinismo y la aparición de dermatitis. Dichas características fueron validadas por el método de coeficiente de correlación y el análisis de componente principal. Los resultados obtenidos demostraron que la red neuronal backpropagation con validación cruzada supera al modelo de regresión logística. El valor de predicción generado por la red neuronal fue de 89.6% mientras que la regresión logística obtuvo un 84%.',\n",
       " 'Insitución': 'Universidad de Lima',\n",
       " 'Titulo de la tesis': 'Comparación entre regresión logística y redes neuronales para predecir cáncer de piel en perros',\n",
       " 'Grado': 'Bachiller en Ingeniería de Sistemas'}"
      ]
     },
     "execution_count": 6,
     "metadata": {},
     "output_type": "execute_result"
    }
   ],
   "source": [
    "#UTILIDADES\n",
    "#Convierte una lista a un diccionario\n",
    "def listToDic(lst):\n",
    "    res_dct = {lst[i]: lst[i + 1] for i in range(0, len(lst), 2)}\n",
    "    return res_dct\n",
    "#Crearemos una funcion que nos devuelva toda la metadata requerida de una tesis, el parametro de entrada será el link de la tesis, por ejemplo : https://repositorio.ulima.edu.pe/handle/20.500.12724/8401?show=full\n",
    "import requests\n",
    "from bs4 import BeautifulSoup\n",
    "def getDatos(linkTesis):\n",
    "   diccionario_datos = {}\n",
    "   html_doc = requests.get(linkTesis).text\n",
    "   soup = BeautifulSoup(html_doc, 'html.parser')\n",
    "   search = soup.find_all(\"tr\",class_=\"ds-table-row\")\n",
    "   for fila in search:\n",
    "     columnas = listToDic(list(map(lambda x: x.string, fila.find_all(\"td\")))[0:2])\n",
    "     diccionario_datos.update(columnas)\n",
    "   #Vamos a filtrar los datos que estamos buscando\n",
    "   targets = list(targets_data.keys())\n",
    "   response = {key:  diccionario_datos[key] for key in  diccionario_datos.keys() if key in targets}\n",
    "   #Modificaremos las claves del diccionario\n",
    "   response = dict([(targets_data.get(key), value) for key, value in response.items()])\n",
    "   return response\n",
    " \n",
    "#Ejemplo\n",
    "getDatos(\"https://repositorio.ulima.edu.pe/handle/20.500.12724/8401?show=full\")"
   ]
  },
  {
   "cell_type": "code",
   "execution_count": null,
   "id": "fc8f8537",
   "metadata": {},
   "outputs": [],
   "source": []
  }
 ],
 "metadata": {
  "kernelspec": {
   "display_name": "Python 3 (ipykernel)",
   "language": "python",
   "name": "python3"
  },
  "language_info": {
   "codemirror_mode": {
    "name": "ipython",
    "version": 3
   },
   "file_extension": ".py",
   "mimetype": "text/x-python",
   "name": "python",
   "nbconvert_exporter": "python",
   "pygments_lexer": "ipython3",
   "version": "3.9.12"
  }
 },
 "nbformat": 4,
 "nbformat_minor": 5
}
